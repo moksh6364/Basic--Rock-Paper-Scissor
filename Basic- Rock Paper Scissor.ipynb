{
 "cells": [
  {
   "cell_type": "code",
   "execution_count": 15,
   "id": "65de9c15",
   "metadata": {},
   "outputs": [],
   "source": [
    "import random\n",
    "\n",
    "\n",
    "def start():\n",
    "    pop = input(\"You wanna start Rock paper scissor? Y or N? \").lower()\n",
    "    if pop == \"y\":\n",
    "        return True\n",
    "    else:\n",
    "        return False\n",
    "\n",
    "    \n",
    "def game():\n",
    "    a = start()\n",
    "    user_win = 0\n",
    "    comp_win = 0\n",
    "\n",
    "    while a == True:\n",
    "        game_input = input(\"Enter Rock/Paper/Scissor or Q to quit: \").lower()\n",
    "        \n",
    "        comp_input = random.choice([\"rock\",\"paper\",\"scissor\"])\n",
    "        \n",
    "        if game_input == \"q\":\n",
    "            print(\"Game Over\")\n",
    "            break\n",
    "            \n",
    "        elif game_input not in (\"rock\",\"paper\",\"scissor\"):\n",
    "            print(\"provide valid input\")\n",
    "            continue\n",
    "\n",
    "        elif game_input == \"rock\" and comp_input == \"scissor\":\n",
    "            user_win += 1\n",
    "            print(\"You Won! Computer choice was\",comp_input)      \n",
    "            continue\n",
    "            \n",
    "        elif game_input == \"paper\" and comp_input == \"rock\":\n",
    "            user_win += 1\n",
    "            print(\"You Won! Computer choice was\",comp_input)      \n",
    "            continue\n",
    "            \n",
    "        elif game_input == \"scissor\" and comp_input == \"paper\":\n",
    "            user_win += 1\n",
    "            print(\"You Won! Computer choice was\",comp_input)      \n",
    "            continue \n",
    "        \n",
    "        elif game_input == comp_input:\n",
    "            print(\"Draw!\")\n",
    "            \n",
    "        else:\n",
    "            comp_win += 1\n",
    "            print(\"Loser! Computer choice was\",comp_input) \n",
    "            continue\n",
    "            \n",
    "        \n",
    "                   \n",
    "    if a == False:\n",
    "        print(\"As you wish\")\n",
    "    if a == True:\n",
    "        print(\"\\nGame over. You won\",user_win,\"times, and lost\",comp_win,\"times\")\n",
    "        "
   ]
  },
  {
   "cell_type": "code",
   "execution_count": 2,
   "id": "20af64b8",
   "metadata": {},
   "outputs": [],
   "source": [
    "def random_id(length):\n",
    "    number = '0123456789'\n",
    "    alpha = 'abcdefghijklmnopqrstuvwxyz'\n",
    "    id = ''\n",
    "    for i in range(0,length,2):\n",
    "        id += random.choice(number)\n",
    "        id += random.choice(alpha)\n",
    "    return id"
   ]
  },
  {
   "cell_type": "code",
   "execution_count": 16,
   "id": "ee3eac11",
   "metadata": {},
   "outputs": [
    {
     "name": "stdout",
     "output_type": "stream",
     "text": [
      "You wanna start Rock paper scissor? Y or N? y\n",
      "Enter Rock/Paper/Scissor or Q to quit: scissor\n",
      "Loser! Computer choice was rock\n",
      "Enter Rock/Paper/Scissor or Q to quit: paper\n",
      "Draw!\n",
      "Enter Rock/Paper/Scissor or Q to quit: rock\n",
      "You Won! Computer choice was scissor\n",
      "Enter Rock/Paper/Scissor or Q to quit: paper\n",
      "You Won! Computer choice was rock\n",
      "Enter Rock/Paper/Scissor or Q to quit: q\n",
      "Game Over\n",
      "\n",
      "Game over. You won 2 times, and lost 1 times\n"
     ]
    }
   ],
   "source": [
    "game()"
   ]
  },
  {
   "cell_type": "code",
   "execution_count": null,
   "id": "1ccb77e7",
   "metadata": {},
   "outputs": [],
   "source": []
  }
 ],
 "metadata": {
  "kernelspec": {
   "display_name": "Python 3 (ipykernel)",
   "language": "python",
   "name": "python3"
  },
  "language_info": {
   "codemirror_mode": {
    "name": "ipython",
    "version": 3
   },
   "file_extension": ".py",
   "mimetype": "text/x-python",
   "name": "python",
   "nbconvert_exporter": "python",
   "pygments_lexer": "ipython3",
   "version": "3.9.7"
  }
 },
 "nbformat": 4,
 "nbformat_minor": 5
}
