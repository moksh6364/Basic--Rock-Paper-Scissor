{
 "cells": [
  {
   "cell_type": "code",
   "execution_count": 28,
   "id": "65de9c15",
   "metadata": {},
   "outputs": [],
   "source": [
    "import random\n",
    "\n",
    "\n",
    "def start():\n",
    "    pop = input(\"You wanna start Rock paper scissor? Y or N? \").lower()\n",
    "    if pop == \"y\":\n",
    "        return True\n",
    "    else:\n",
    "        return False\n",
    "\n",
    "    \n",
    "def game():\n",
    "    a = start()\n",
    "    user_win = 0\n",
    "    comp_win = 0\n",
    "\n",
    "    while a == True:\n",
    "        game_input = input(\"Enter Rock/Paper/Scissor or Q to quit: \").lower()\n",
    "\n",
    "        if game_input == \"q\":\n",
    "            print(\"Game Over\")\n",
    "            break\n",
    "            \n",
    "        elif game_input not in (\"rock\",\"paper\",\"scissor\"):\n",
    "            print(\"provide valid input\")\n",
    "            continue\n",
    "\n",
    "        elif game_input == random.choice([\"rock\",\"paper\",\"scissor\"]):\n",
    "            user_win += 1\n",
    "            print(\"Correct\")      \n",
    "            continue\n",
    "            \n",
    "        else:\n",
    "            comp_win += 1\n",
    "            print(\"Loser!\")          \n",
    "            continue\n",
    "                   \n",
    "    if a == False:\n",
    "        print(\"As you wish\")\n",
    "    if a == True:\n",
    "        print(\"\\nGame over. You won\",user_win,\"times, and lost\",comp_win,\"times\")\n",
    "        "
   ]
  },
  {
   "cell_type": "code",
   "execution_count": 2,
   "id": "37d2a075",
   "metadata": {},
   "outputs": [],
   "source": [
    "def random_id(length):\n",
    "    number = '0123456789'\n",
    "    alpha = 'abcdefghijklmnopqrstuvwxyz'\n",
    "    id = ''\n",
    "    for i in range(0,length,2):\n",
    "        id += random.choice(number)\n",
    "        id += random.choice(alpha)\n",
    "    return id"
   ]
  },
  {
   "cell_type": "code",
   "execution_count": 27,
   "id": "bd0caa54",
   "metadata": {},
   "outputs": [
    {
     "name": "stdout",
     "output_type": "stream",
     "text": [
      "You wanna start Rock paper scissor? Y or N?\n",
      " y\n",
      "Enter Rock/Paper/Scissor or Q to quit: q\n",
      "Game Over\n",
      "\n",
      "Game over. You won 0 times, and lost 0 times\n"
     ]
    }
   ],
   "source": [
    "game()"
   ]
  },
  {
   "cell_type": "code",
   "execution_count": null,
   "id": "854b63db",
   "metadata": {},
   "outputs": [],
   "source": []
  }
 ],
 "metadata": {
  "kernelspec": {
   "display_name": "Python 3 (ipykernel)",
   "language": "python",
   "name": "python3"
  },
  "language_info": {
   "codemirror_mode": {
    "name": "ipython",
    "version": 3
   },
   "file_extension": ".py",
   "mimetype": "text/x-python",
   "name": "python",
   "nbconvert_exporter": "python",
   "pygments_lexer": "ipython3",
   "version": "3.9.7"
  }
 },
 "nbformat": 4,
 "nbformat_minor": 5
}
